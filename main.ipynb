{
  "nbformat": 4,
  "nbformat_minor": 0,
  "metadata": {
    "colab": {
      "provenance": [],
      "gpuType": "T4",
      "authorship_tag": "ABX9TyNlciS+Wf//WvA4rczLvyBa",
      "include_colab_link": true
    },
    "kernelspec": {
      "name": "python3",
      "display_name": "Python 3"
    },
    "language_info": {
      "name": "python"
    },
    "accelerator": "GPU"
  },
  "cells": [
    {
      "cell_type": "markdown",
      "metadata": {
        "id": "view-in-github",
        "colab_type": "text"
      },
      "source": [
        "<a href=\"https://colab.research.google.com/github/Aleksandr62aa/Computer_Vision/blob/main/main.ipynb\" target=\"_parent\"><img src=\"https://colab.research.google.com/assets/colab-badge.svg\" alt=\"Open In Colab\"/></a>"
      ]
    },
    {
      "cell_type": "code",
      "source": [
        "!git clone https://github.com/Aleksandr62aa/Computer_Vision.git\n",
        "%cd Computer_Vision"
      ],
      "metadata": {
        "id": "nlnamj8oYQ6C"
      },
      "execution_count": null,
      "outputs": []
    },
    {
      "cell_type": "code",
      "source": [
        "# !pip install torch==2.2.1+cu121 torchvision==0.17.1+cu121  torchaudio==2.2.1+cu121\n",
        "# !pip install torch"
      ],
      "metadata": {
        "id": "idGPLWexYQ-4"
      },
      "execution_count": null,
      "outputs": []
    },
    {
      "cell_type": "code",
      "source": [
        "!pip install -r requirements.txt"
      ],
      "metadata": {
        "id": "Syapx19RakZ3"
      },
      "execution_count": null,
      "outputs": []
    },
    {
      "cell_type": "code",
      "source": [
        "import yaml\n",
        "import json\n",
        "\n",
        "from nodes.VideoReader import VideoReader\n",
        "from nodes.ShowNode import ShowNode\n",
        "from nodes.VideoSaverNode import VideoSaverNode\n",
        "# from nodes.DetectionTrackingNodes import DetectionTrackingNodes\n",
        "from nodes.DetectionTrackingNodes_v1 import DetectionTrackingNodes\n",
        "from nodes.TrackerInfoUpdateNode import TrackerInfoUpdateNode\n",
        "from nodes.CalcStatisticsNode import CalcStatisticsNode\n",
        "from nodes.SendInfoDBNode import SendInfoDBNode\n",
        "from omegaconf import DictConfig, OmegaConf\n",
        "\n",
        "def main() -> None:\n",
        "    # # Чтение данных из configuration yaml (конфигурационный файл)\n",
        "    with open('configs/app_config.yaml', 'r') as file:\n",
        "        configuration = yaml.safe_load(file)\n",
        "    config =json.loads(json.dumps(configuration, indent=2))\n",
        "\n",
        "    video_reader = VideoReader(config[\"video_reader\"])\n",
        "    detection_node = DetectionTrackingNodes(config)\n",
        "    tracker_info_update_node = TrackerInfoUpdateNode(config)\n",
        "    calc_statistics_node = CalcStatisticsNode(config)\n",
        "    show_node = ShowNode(config)\n",
        "    video_saver_node = VideoSaverNode(config[\"video_saver_node\"])\n",
        "\n",
        "    save_video = config[\"pipeline\"][\"save_video\"]\n",
        "    send_info_db = config[\"pipeline\"][\"send_info_db\"]\n",
        "\n",
        "\n",
        "    if send_info_db:\n",
        "        send_info_db_node = SendInfoDBNode(config)\n",
        "\n",
        "    for frame_element in video_reader.process():\n",
        "\n",
        "        frame_element = detection_node.process(frame_element)\n",
        "        frame_element = tracker_info_update_node.process(frame_element)\n",
        "        frame_element = calc_statistics_node.process(frame_element)\n",
        "\n",
        "        if send_info_db:\n",
        "            frame_element = send_info_db_node.process(frame_element)\n",
        "\n",
        "        frame_element = show_node.process(frame_element)\n",
        "\n",
        "        if save_video:\n",
        "            video_saver_node.process(frame_element)\n",
        "\n",
        "if __name__ == \"__main__\":\n",
        "    main()"
      ],
      "metadata": {
        "id": "g_fw5dhFbsws",
        "colab": {
          "base_uri": "https://localhost:8080/"
        },
        "outputId": "90e80841-c520-4b33-baf3-acf4137b202e"
      },
      "execution_count": 3,
      "outputs": [
        {
          "output_type": "stream",
          "name": "stdout",
          "text": [
            "Детекция будет производиться на cuda\n",
            "YOLOv8m summary (fused): 218 layers, 25886080 parameters, 0 gradients, 78.9 GFLOPs\n"
          ]
        },
        {
          "output_type": "stream",
          "name": "stderr",
          "text": [
            "WARNING:nodes.VideoReader:Can't receive frame (stream end?). Exiting ...\n"
          ]
        },
        {
          "output_type": "stream",
          "name": "stdout",
          "text": [
            "Видео сохранено в папке video_out\n"
          ]
        }
      ]
    }
  ]
}